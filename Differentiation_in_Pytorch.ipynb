{
 "cells": [
  {
   "cell_type": "markdown",
   "metadata": {},
   "source": [
    "## Diffrentiation in pytorch"
   ]
  },
  {
   "cell_type": "code",
   "execution_count": 1,
   "metadata": {},
   "outputs": [],
   "source": [
    "import torch"
   ]
  },
  {
   "cell_type": "code",
   "execution_count": 3,
   "metadata": {},
   "outputs": [
    {
     "name": "stdout",
     "output_type": "stream",
     "text": [
      "tensor(2.)\n"
     ]
    }
   ],
   "source": [
    "x = torch.tensor(1.0, requires_grad = True)  # assigning the value of x as 1 i.e x=1\n",
    "                                             # requires_grad = True indicates that it froms a backward graph \n",
    "                                             # while computing gradients.\n",
    "y = x**2                                     # y=f(x)=x^2\n",
    "y.backward()                                 # computes the gradient y'\n",
    "\n",
    "print(x.grad.data)                           # The computed gradient is stored in the .grad attribute of \n",
    "                                             # the tensor and it can be accessed by calling the function .data\n",
    "\n",
    "# While computing the gradient the tesor should be of type float"
   ]
  },
  {
   "cell_type": "markdown",
   "metadata": {},
   "source": [
    "### To know more about the Autograd in Pytorch\n",
    "[Refer this link](https://towardsdatascience.com/pytorch-autograd-understanding-the-heart-of-pytorchs-magic-2686cd94ec95#:~:text=requires_grad%20%3D%20True%20they%20start%20forming,explained%20further%20in%20the%20post)"
   ]
  },
  {
   "cell_type": "markdown",
   "metadata": {},
   "source": [
    "## Calculating partial derivatives"
   ]
  },
  {
   "cell_type": "code",
   "execution_count": 5,
   "metadata": {},
   "outputs": [
    {
     "name": "stdout",
     "output_type": "stream",
     "text": [
      "tensor(3.)\n",
      "tensor(8.)\n"
     ]
    }
   ],
   "source": [
    "u = torch.tensor(2.0, requires_grad = True)\n",
    "v = torch.tensor(3.0, requires_grad = True)\n",
    "\n",
    "f = u*v + v**2\n",
    "\n",
    "f.backward()        # Computes the partial derivatives of f wit respect to both u and v\n",
    "print(u.grad)       # prints out the value\n",
    "\n",
    "print(v.grad)"
   ]
  },
  {
   "cell_type": "code",
   "execution_count": null,
   "metadata": {},
   "outputs": [],
   "source": []
  }
 ],
 "metadata": {
  "kernelspec": {
   "display_name": "Python 3",
   "language": "python",
   "name": "python3"
  },
  "language_info": {
   "codemirror_mode": {
    "name": "ipython",
    "version": 3
   },
   "file_extension": ".py",
   "mimetype": "text/x-python",
   "name": "python",
   "nbconvert_exporter": "python",
   "pygments_lexer": "ipython3",
   "version": "3.8.5"
  }
 },
 "nbformat": 4,
 "nbformat_minor": 4
}
